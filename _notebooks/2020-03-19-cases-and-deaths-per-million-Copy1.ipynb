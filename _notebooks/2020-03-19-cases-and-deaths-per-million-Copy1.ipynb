{
 "cells": [
  {
   "cell_type": "markdown",
   "metadata": {
    "papermill": {
     "duration": 0.013366,
     "end_time": "2020-04-28T12:13:02.514451",
     "exception": false,
     "start_time": "2020-04-28T12:13:02.501085",
     "status": "completed"
    },
    "tags": []
   },
   "source": [
    "# COVID-19 Data Analysis\n",
    "> Source: JHU . \n",
    "\n",
    "- comments: true\n",
    "- author: Sonal Kelwadkar\n",
    "- hide: false\n",
    "- image: images/covid-permillion-trajectories.png\n",
    "- permalink: /covid-compare-permillion/"
   ]
  },
  {
   "cell_type": "code",
   "execution_count": 1,
   "metadata": {
    "execution": {
     "iopub.execute_input": "2020-04-28T12:13:02.540864Z",
     "iopub.status.busy": "2020-04-28T12:13:02.540256Z",
     "iopub.status.idle": "2020-04-28T12:13:03.201618Z",
     "shell.execute_reply": "2020-04-28T12:13:03.200236Z"
    },
    "papermill": {
     "duration": 0.676784,
     "end_time": "2020-04-28T12:13:03.201819",
     "exception": false,
     "start_time": "2020-04-28T12:13:02.525035",
     "status": "completed"
    },
    "tags": []
   },
   "outputs": [
    {
     "name": "stderr",
     "output_type": "stream",
     "text": [
      "Using TensorFlow backend.\n"
     ]
    }
   ],
   "source": [
    "#collapse-hide\n",
    "import numpy as np\n",
    "import pandas as pd\n",
    "import matplotlib.pyplot as plt\n",
    "import altair as alt\n",
    "\n",
    "import os\n",
    "import matplotlib\n",
    "from IPython.display import display, Markdown\n",
    "from collections import defaultdict\n",
    "from datetime import datetime, timedelta, date\n",
    "import scipy as sci\n",
    "from sklearn.feature_extraction.text import TfidfVectorizer\n",
    "from sklearn.cluster import KMeans\n",
    "import pycountry_convert as pc\n",
    "import folium\n",
    "import branca\n",
    "from scipy.interpolate import make_interp_spline, BSpline\n",
    "import plotly.express as px\n",
    "import json, requests\n",
    "from keras.layers import Input, Dense, Activation, LeakyReLU, Dropout\n",
    "from keras import models\n",
    "from keras.optimizers import RMSprop, Adam\n",
    "from folium import plugins\n",
    "from IPython.display import HTML\n",
    "import warnings\n",
    "warnings.filterwarnings('ignore')\n",
    "\n",
    "import matplotlib.pyplot as plt\n",
    "import seaborn as sns\n",
    "from matplotlib import ticker\n",
    "import calmap\n",
    "\n",
    "%config InlineBackend.figure_format = 'retina'\n",
    "\n",
    "chart_width = 550\n",
    "chart_height= 400"
   ]
  },
  {
   "cell_type": "markdown",
   "metadata": {
    "papermill": {
     "duration": 0.011934,
     "end_time": "2020-04-28T12:13:03.223945",
     "exception": false,
     "start_time": "2020-04-28T12:13:03.212011",
     "status": "completed"
    },
    "tags": []
   },
   "source": [
    "## Deaths Per Million Of Inhabitants"
   ]
  },
  {
   "cell_type": "markdown",
   "metadata": {
    "papermill": {
     "duration": 0.009394,
     "end_time": "2020-04-28T12:13:03.242807",
     "exception": false,
     "start_time": "2020-04-28T12:13:03.233413",
     "status": "completed"
    },
    "tags": []
   },
   "source": [
    "Since reaching at least 1 death per million\n",
    "\n",
    "> Tip: Click (Shift+ for multiple) on countries in the legend to filter the visualization."
   ]
  },
  {
   "cell_type": "code",
   "execution_count": 4,
   "metadata": {},
   "outputs": [],
   "source": [
    "#collapse-hide\n",
    "df_confirmed = pd.read_csv('https://raw.githubusercontent.com/CSSEGISandData/COVID-19/master/csse_covid_19_data/csse_covid_19_time_series/time_series_covid19_confirmed_global.csv', error_bad_lines=False)\n",
    "df_deaths = pd.read_csv('https://raw.githubusercontent.com/CSSEGISandData/COVID-19/master/csse_covid_19_data/csse_covid_19_time_series/time_series_covid19_deaths_global.csv', error_bad_lines=False)\n",
    "df_recovered = pd.read_csv('https://raw.githubusercontent.com/CSSEGISandData/COVID-19/master/csse_covid_19_data/csse_covid_19_time_series/time_series_covid19_recovered_global.csv', error_bad_lines=False)\n",
    "\n",
    "df_covid19 = pd.read_csv(\"https://raw.githubusercontent.com/CSSEGISandData/COVID-19/web-data/data/cases_country.csv\", error_bad_lines=False)\n",
    "df_table = pd.read_csv(\"https://raw.githubusercontent.com/CSSEGISandData/COVID-19/web-data/data/cases_time.csv\",parse_dates=['Last_Update'])\n"
   ]
  },
  {
   "cell_type": "code",
   "execution_count": null,
   "metadata": {},
   "outputs": [],
   "source": []
  }
 ],
 "metadata": {
  "kernelspec": {
   "display_name": "Python 3",
   "language": "python",
   "name": "python3"
  },
  "language_info": {
   "codemirror_mode": {
    "name": "ipython",
    "version": 3
   },
   "file_extension": ".py",
   "mimetype": "text/x-python",
   "name": "python",
   "nbconvert_exporter": "python",
   "pygments_lexer": "ipython3",
   "version": "3.7.3"
  },
  "papermill": {
   "duration": 18.077424,
   "end_time": "2020-04-28T12:13:19.742361",
   "environment_variables": {},
   "exception": null,
   "input_path": "2020-03-19-cases-and-deaths-per-million.ipynb",
   "output_path": "2020-03-19-cases-and-deaths-per-million.ipynb",
   "parameters": {},
   "start_time": "2020-04-28T12:13:01.664937",
   "version": "2.0.0"
  },
  "toc": {
   "base_numbering": 1,
   "nav_menu": {},
   "number_sections": true,
   "sideBar": true,
   "skip_h1_title": false,
   "title_cell": "Table of Contents",
   "title_sidebar": "Contents",
   "toc_cell": false,
   "toc_position": {},
   "toc_section_display": true,
   "toc_window_display": false
  },
  "varInspector": {
   "cols": {
    "lenName": 16,
    "lenType": 16,
    "lenVar": 40
   },
   "kernels_config": {
    "python": {
     "delete_cmd_postfix": "",
     "delete_cmd_prefix": "del ",
     "library": "var_list.py",
     "varRefreshCmd": "print(var_dic_list())"
    },
    "r": {
     "delete_cmd_postfix": ") ",
     "delete_cmd_prefix": "rm(",
     "library": "var_list.r",
     "varRefreshCmd": "cat(var_dic_list()) "
    }
   },
   "types_to_exclude": [
    "module",
    "function",
    "builtin_function_or_method",
    "instance",
    "_Feature"
   ],
   "window_display": false
  }
 },
 "nbformat": 4,
 "nbformat_minor": 2
}
